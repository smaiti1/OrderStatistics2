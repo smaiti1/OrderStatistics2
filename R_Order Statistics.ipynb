{
 "cells": [
  {
   "cell_type": "code",
   "execution_count": 14,
   "metadata": {},
   "outputs": [],
   "source": [
    "draw<-function(n){\n",
    "    drawlength<-rep(NA,n)\n",
    "    for (i in 1:n){\n",
    "        count=1\n",
    "        draw_1=runif(1)\n",
    "        draw_2=runif(1)\n",
    "        while (draw_2<draw_1){\n",
    "            count=count+1\n",
    "            draw_1=draw_2\n",
    "            draw_2=runif(1)\n",
    "        }\n",
    "        drawlength[i]=count\n",
    "    }\n",
    "    return(drawlength)\n",
    "}"
   ]
  },
  {
   "cell_type": "code",
   "execution_count": 21,
   "metadata": {},
   "outputs": [
    {
     "data": {
      "text/html": [
       "1.71981"
      ],
      "text/latex": [
       "1.71981"
      ],
      "text/markdown": [
       "1.71981"
      ],
      "text/plain": [
       "[1] 1.71981"
      ]
     },
     "metadata": {},
     "output_type": "display_data"
    }
   ],
   "source": [
    "mean(draw(100000))"
   ]
  },
  {
   "cell_type": "code",
   "execution_count": 19,
   "metadata": {},
   "outputs": [
    {
     "data": {
      "text/html": [
       "2.71828182845905"
      ],
      "text/latex": [
       "2.71828182845905"
      ],
      "text/markdown": [
       "2.71828182845905"
      ],
      "text/plain": [
       "[1] 2.718282"
      ]
     },
     "metadata": {},
     "output_type": "display_data"
    }
   ],
   "source": [
    "exp(1)"
   ]
  },
  {
   "cell_type": "code",
   "execution_count": null,
   "metadata": {},
   "outputs": [],
   "source": []
  }
 ],
 "metadata": {
  "kernelspec": {
   "display_name": "R",
   "language": "R",
   "name": "ir"
  },
  "language_info": {
   "codemirror_mode": "r",
   "file_extension": ".r",
   "mimetype": "text/x-r-source",
   "name": "R",
   "pygments_lexer": "r",
   "version": "3.5.1"
  }
 },
 "nbformat": 4,
 "nbformat_minor": 2
}
